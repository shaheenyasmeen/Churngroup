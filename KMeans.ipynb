{
 "cells": [
  {
   "cell_type": "code",
   "execution_count": 1,
   "id": "12548632-0c90-4627-adb8-e0b25610147f",
   "metadata": {},
   "outputs": [
    {
     "name": "stdout",
     "output_type": "stream",
     "text": [
      "Customer distribution per cluster:\n",
      "Customer Segment\n",
      "0    2408\n",
      "1    2124\n",
      "2    2511\n",
      "Name: count, dtype: int64\n"
     ]
    }
   ],
   "source": [
    "from sklearn.cluster import KMeans\n",
    "from sklearn.preprocessing import StandardScaler\n",
    "import pandas as pd\n",
    "\n",
    "df = pd.read_excel(r'C:\\Users\\didit\\OneDrive\\Desktop\\Studio 6\\Dataset\\EntireDataset_churn_risk_scores.xlsx') \n",
    "\n",
    "# Step 1: Select Features Relevant for Segmentation\n",
    "segmentation_features = ['Tenure Months', 'Monthly Charges',\n",
    "    'Dependents', 'Partner', 'Senior Citizen',\n",
    "    'Online Security', 'Tech Support', 'Paperless Billing']\n",
    "\n",
    "X = df[segmentation_features].copy()\n",
    "\n",
    "# Step 2: Standardize Features (very important for K-Means)\n",
    "scaler = StandardScaler()\n",
    "X_scaled = scaler.fit_transform(X)\n",
    "\n",
    "# Step 3: Apply KMeans (e.g., k = 3 clusters)\n",
    "kmeans = KMeans(n_clusters=3, random_state=42)\n",
    "df['Customer Segment'] = kmeans.fit_predict(X_scaled)\n",
    "\n",
    "# Step 4: Show distribution count per cluster\n",
    "cluster_counts = df['Customer Segment'].value_counts().sort_index()\n",
    "\n",
    "print(\"Customer distribution per cluster:\")\n",
    "print(cluster_counts)\n",
    "\n",
    "# Save the updated DataFrame to Excel\n",
    "output_path = r\"C:\\Users\\didit\\OneDrive\\Desktop\\Studio 6\\Dataset\\KMeansEntireDataset_with_Clusters.xlsx\"\n",
    "df.to_excel(output_path, index=False)"
   ]
  },
  {
   "cell_type": "code",
   "execution_count": 2,
   "id": "4001fbe2-246b-4164-bafd-dcc56cbded17",
   "metadata": {},
   "outputs": [
    {
     "name": "stdout",
     "output_type": "stream",
     "text": [
      "                  Tenure Months  Monthly Charges  Dependents  Partner  \\\n",
      "Customer Segment                                                        \n",
      "0                         25.85            34.00        0.35     0.45   \n",
      "1                         52.13            83.89        0.31     0.72   \n",
      "2                         21.91            78.08        0.05     0.31   \n",
      "\n",
      "                  Senior Citizen  Online Security  Tech Support  \\\n",
      "Customer Segment                                                  \n",
      "0                           0.02             0.07          0.05   \n",
      "1                           0.11             0.74          0.75   \n",
      "2                           0.34             0.12          0.13   \n",
      "\n",
      "                  Paperless Billing  Churn Probability  \n",
      "Customer Segment                                        \n",
      "0                              0.24               0.24  \n",
      "1                              0.61               0.18  \n",
      "2                              0.91               0.66  \n"
     ]
    }
   ],
   "source": [
    "# Analyze the cluster characteristics\n",
    "cluster_profile = df.groupby('Customer Segment')[\n",
    "    ['Tenure Months', 'Monthly Charges', 'Dependents', 'Partner',\n",
    "     'Senior Citizen', 'Online Security', 'Tech Support', 'Paperless Billing', \n",
    "     'Churn Probability']\n",
    "].mean().round(2)\n",
    "print(cluster_profile)"
   ]
  },
  {
   "cell_type": "code",
   "execution_count": 3,
   "id": "fa5829e7-d53d-4056-abeb-1bbb4d7e4bf9",
   "metadata": {},
   "outputs": [],
   "source": [
    "# Group by 'Churn Risk Level' and summarize key features\n",
    "churn_risk_summary = df.groupby('Churn Risk Level').agg({\n",
    "    'Customer Segment': 'count',\n",
    "    'Tenure Months': 'mean',\n",
    "    'Monthly Charges': 'mean',\n",
    "    'Dependents': 'mean',\n",
    "    'Partner': 'mean',\n",
    "    'Senior Citizen': 'mean',\n",
    "    'Online Security': 'mean',\n",
    "    'Tech Support': 'mean',\n",
    "    'Paperless Billing': 'mean',\n",
    "    'CLTV': 'mean',\n",
    "    'Churn Probability': 'mean',\n",
    "    'Contract': lambda x: x.mode()[0] if not x.mode().empty else 'N/A',\n",
    "    'Internet Service': lambda x: x.mode()[0] if not x.mode().empty else 'N/A',\n",
    "    'Payment Method': lambda x: x.mode()[0] if not x.mode().empty else 'N/A',\n",
    "})\n",
    "\n",
    "# Round numeric values for cleaner display\n",
    "churn_risk_summary = churn_risk_summary.round(2)\n",
    "\n",
    "# Save to Excel\n",
    "churn_risk_summary.to_excel(r'C:\\Users\\didit\\OneDrive\\Desktop\\Studio 6\\Dataset\\ChurnRiskLevel_Summary.xlsx')"
   ]
  },
  {
   "cell_type": "code",
   "execution_count": 4,
   "id": "45a228ac-02ea-434d-8f35-d1e97fcf5c99",
   "metadata": {},
   "outputs": [
    {
     "name": "stdout",
     "output_type": "stream",
     "text": [
      "Customer Segment vs Churn Risk Level Summary:\n",
      "Churn Risk Level  High   Low  Medium\n",
      "Customer Segment                    \n",
      "0                  299  1636     473\n",
      "1                  130  1657     337\n",
      "2                 1552   361     598\n"
     ]
    }
   ],
   "source": [
    "# Now create a cross-tabulation (pivot table) to summarize Customer Segment vs Churn Risk Level\n",
    "customer_segment_vs_risk = pd.crosstab(\n",
    "    df['Customer Segment'],\n",
    "    df['Churn Risk Level']\n",
    ")\n",
    "\n",
    "# Display the result\n",
    "print(\"Customer Segment vs Churn Risk Level Summary:\")\n",
    "print(customer_segment_vs_risk)"
   ]
  },
  {
   "cell_type": "code",
   "execution_count": null,
   "id": "6a617465-3864-42db-b1a8-ddb40aa0e8cd",
   "metadata": {},
   "outputs": [],
   "source": []
  }
 ],
 "metadata": {
  "kernelspec": {
   "display_name": "Python 3 (ipykernel)",
   "language": "python",
   "name": "python3"
  },
  "language_info": {
   "codemirror_mode": {
    "name": "ipython",
    "version": 3
   },
   "file_extension": ".py",
   "mimetype": "text/x-python",
   "name": "python",
   "nbconvert_exporter": "python",
   "pygments_lexer": "ipython3",
   "version": "3.12.3"
  }
 },
 "nbformat": 4,
 "nbformat_minor": 5
}
